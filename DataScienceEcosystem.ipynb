{
 "cells": [
  {
   "cell_type": "markdown",
   "id": "dca0312b-74d4-42b9-a36f-8b113f6b7926",
   "metadata": {},
   "source": [
    "# Data Science Tools and Ecosystem"
   ]
  },
  {
   "cell_type": "markdown",
   "id": "eff5a286-c7b0-4428-abe8-185bc65cea78",
   "metadata": {},
   "source": [
    "In this notebook, Data Science Tools and Ecosystem are summarized."
   ]
  },
  {
   "cell_type": "markdown",
   "id": "651fd9a8-eee7-4cca-8e6f-bfdaeb8f83f1",
   "metadata": {},
   "source": [
    "**Objectives:**\n",
    "* List popular languages and libraries used by Data Scientists\n",
    "* Display some of Data Science tools\n",
    "* Showcase a few examples of arithmetic expressions in Python"
   ]
  },
  {
   "cell_type": "markdown",
   "id": "6faff7f5-a2c3-4084-aeb0-9960456e49ac",
   "metadata": {},
   "source": [
    "Some of the popular languages that Data Scientist use are:\n",
    "1. Python \n",
    "2. R\n",
    "3. Scala\n",
    "4. Julia"
   ]
  },
  {
   "cell_type": "markdown",
   "id": "81189412-1c93-4816-9fee-277bc856d057",
   "metadata": {},
   "source": [
    "Some of the commonly used libraries used by Data Scientist include:\n",
    "1. Pandas\n",
    "2. NumPy\n",
    "3. Matplotlib\n",
    "4. Plotly\n",
    "\n"
   ]
  },
  {
   "cell_type": "markdown",
   "id": "8c55f0f3-6b81-4ce6-9bd5-6692bbc63d9a",
   "metadata": {},
   "source": [
    "|Data Science Tools|\n",
    "|-|\n",
    "|Apache Spark|\n",
    "|Jupyter Notebook|\n",
    "|TensorFlow|\n",
    "|RStudio|"
   ]
  },
  {
   "cell_type": "markdown",
   "id": "db730fc0-434d-4f64-b8b7-905505df3413",
   "metadata": {},
   "source": [
    "### Below are a few examples of evaluating arithmetic expressions in Python"
   ]
  },
  {
   "cell_type": "code",
   "execution_count": 3,
   "id": "7b7d4a49-553a-4171-9181-0df7180026f9",
   "metadata": {
    "scrolled": true
   },
   "outputs": [
    {
     "data": {
      "text/plain": [
       "17"
      ]
     },
     "execution_count": 3,
     "metadata": {},
     "output_type": "execute_result"
    }
   ],
   "source": [
    "# This is a simple arithmetic expression to multiply and then add integers\n",
    "(3*4)+5"
   ]
  },
  {
   "cell_type": "code",
   "execution_count": 8,
   "id": "856d6c9f-1b96-4b37-9592-1567f99dda8b",
   "metadata": {},
   "outputs": [
    {
     "data": {
      "text/plain": [
       "3.3"
      ]
     },
     "execution_count": 8,
     "metadata": {},
     "output_type": "execute_result"
    }
   ],
   "source": [
    "# This will conver 200 minutes to hours by dividing by 60.\n",
    "round(200/60, 1)"
   ]
  },
  {
   "cell_type": "markdown",
   "id": "6048f2e3-3e30-4539-90a9-09769cb38809",
   "metadata": {},
   "source": [
    "## Author\n",
    "Sebastian Kliś"
   ]
  }
 ],
 "metadata": {
  "kernelspec": {
   "display_name": "Python 3 (ipykernel)",
   "language": "python",
   "name": "python3"
  },
  "language_info": {
   "codemirror_mode": {
    "name": "ipython",
    "version": 3
   },
   "file_extension": ".py",
   "mimetype": "text/x-python",
   "name": "python",
   "nbconvert_exporter": "python",
   "pygments_lexer": "ipython3",
   "version": "3.12.7"
  }
 },
 "nbformat": 4,
 "nbformat_minor": 5
}
